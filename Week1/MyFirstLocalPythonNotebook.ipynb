{
 "cells": [
  {
   "cell_type": "code",
   "execution_count": null,
   "metadata": {},
   "outputs": [],
   "source": [
    "library(readr)\n",
    "iris <- read_csv(\"iris.csv\", col_names = FALSE, col_types = cols(X1=col_double()))\n",
    "colnames(iris) <- c(\"Petal.Length\", \"Petal.Width\", \"Sepal.Length\", \"Sepal.Width\", \"Species\"))\n",
    "\n",
    "#View(iris)\n",
    "\n",
    "iris$Species <- as.factor(iris$Species)\n",
    "print(sapply(iris, class))\n",
    "\n",
    "print(table(iris$Species))\n",
    "\n"
   ]
  }
 ],
 "metadata": {
  "language_info": {
   "name": "python"
  },
  "orig_nbformat": 4
 },
 "nbformat": 4,
 "nbformat_minor": 2
}
